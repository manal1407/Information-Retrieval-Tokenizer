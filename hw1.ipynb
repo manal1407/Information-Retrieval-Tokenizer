{
  "cells": [
    {
      "cell_type": "markdown",
      "metadata": {
        "id": "view-in-github",
        "colab_type": "text"
      },
      "source": [
        "<a href=\"https://colab.research.google.com/github/manal1407/Information-Retrieval-Tokenizer/blob/master/hw1.ipynb\" target=\"_parent\"><img src=\"https://colab.research.google.com/assets/colab-badge.svg\" alt=\"Open In Colab\"/></a>"
      ]
    },
    {
      "cell_type": "code",
      "execution_count": 1,
      "metadata": {
        "colab": {
          "base_uri": "https://localhost:8080/"
        },
        "id": "cNdAW3s4h-DZ",
        "outputId": "5d55e4e0-d2b3-4b9f-b65e-36fed45aa7fb"
      },
      "outputs": [
        {
          "output_type": "stream",
          "name": "stdout",
          "text": [
            "\u001b[?25l   \u001b[90m━━━━━━━━━━━━━━━━━━━━━━━━━━━━━━━━━━━━━━━━\u001b[0m \u001b[32m0.0/142.5 kB\u001b[0m \u001b[31m?\u001b[0m eta \u001b[36m-:--:--\u001b[0m\r\u001b[2K   \u001b[90m━━━━━━━━━━━━━━━━━━━━━━━━━━━━━━━━━━━━━━━━\u001b[0m \u001b[32m142.5/142.5 kB\u001b[0m \u001b[31m11.6 MB/s\u001b[0m eta \u001b[36m0:00:00\u001b[0m\n",
            "\u001b[?25h\u001b[?25l   \u001b[90m━━━━━━━━━━━━━━━━━━━━━━━━━━━━━━━━━━━━━━━━\u001b[0m \u001b[32m0.0/101.6 kB\u001b[0m \u001b[31m?\u001b[0m eta \u001b[36m-:--:--\u001b[0m\r\u001b[2K   \u001b[90m━━━━━━━━━━━━━━━━━━━━━━━━━━━━━━━━━━━━━━━━\u001b[0m \u001b[32m101.6/101.6 kB\u001b[0m \u001b[31m9.0 MB/s\u001b[0m eta \u001b[36m0:00:00\u001b[0m\n",
            "\u001b[?25h\u001b[?25l   \u001b[90m━━━━━━━━━━━━━━━━━━━━━━━━━━━━━━━━━━━━━━━━\u001b[0m \u001b[32m0.0/139.8 kB\u001b[0m \u001b[31m?\u001b[0m eta \u001b[36m-:--:--\u001b[0m\r\u001b[2K   \u001b[90m━━━━━━━━━━━━━━━━━━━━━━━━━━━━━━━━━━━━━━━━\u001b[0m \u001b[32m139.8/139.8 kB\u001b[0m \u001b[31m11.0 MB/s\u001b[0m eta \u001b[36m0:00:00\u001b[0m\n",
            "\u001b[2K   \u001b[90m━━━━━━━━━━━━━━━━━━━━━━━━━━━━━━━━━━━━━━━━\u001b[0m \u001b[32m118.1/118.1 kB\u001b[0m \u001b[31m10.6 MB/s\u001b[0m eta \u001b[36m0:00:00\u001b[0m\n",
            "\u001b[2K   \u001b[90m━━━━━━━━━━━━━━━━━━━━━━━━━━━━━━━━━━━━━━━━\u001b[0m \u001b[32m1.6/1.6 MB\u001b[0m \u001b[31m49.4 MB/s\u001b[0m eta \u001b[36m0:00:00\u001b[0m\n",
            "\u001b[2K   \u001b[90m━━━━━━━━━━━━━━━━━━━━━━━━━━━━━━━━━━━━━━━━\u001b[0m \u001b[32m2.2/2.2 MB\u001b[0m \u001b[31m65.9 MB/s\u001b[0m eta \u001b[36m0:00:00\u001b[0m\n",
            "\u001b[2K   \u001b[90m━━━━━━━━━━━━━━━━━━━━━━━━━━━━━━━━━━━━━━━━\u001b[0m \u001b[32m45.9/45.9 MB\u001b[0m \u001b[31m19.3 MB/s\u001b[0m eta \u001b[36m0:00:00\u001b[0m\n",
            "\u001b[?25h"
          ]
        }
      ],
      "source": [
        "%pip install -q otter-grader"
      ]
    },
    {
      "cell_type": "code",
      "execution_count": 2,
      "metadata": {
        "colab": {
          "base_uri": "https://localhost:8080/"
        },
        "id": "-n0x2S9Oh-Db",
        "outputId": "ae22c92c-77da-4dc8-cc4a-f1a0e5236405"
      },
      "outputs": [
        {
          "output_type": "stream",
          "name": "stdout",
          "text": [
            "Cloning into 'tests'...\n",
            "remote: Enumerating objects: 33, done.\u001b[K\n",
            "remote: Counting objects: 100% (33/33), done.\u001b[K\n",
            "remote: Compressing objects: 100% (23/23), done.\u001b[K\n",
            "remote: Total 33 (delta 26), reused 12 (delta 10), pack-reused 0 (from 0)\u001b[K\n",
            "Receiving objects: 100% (33/33), 15.24 KiB | 3.81 MiB/s, done.\n",
            "Resolving deltas: 100% (26/26), done.\n"
          ]
        }
      ],
      "source": [
        "import sys\n",
        "import numpy as np\n",
        "import matplotlib.pyplot as plt\n",
        "IN_COLAB = 'google.colab' in sys.modules\n",
        "\n",
        "if IN_COLAB:\n",
        "    !git clone https://github.com/porrashuang/CSE6740_CDA_HW1_Tests.git tests\n",
        "else:\n",
        "    print(\"Not running in Colab\")\n",
        "\n",
        "import otter\n",
        "grader = otter.Notebook()\n"
      ]
    },
    {
      "cell_type": "markdown",
      "metadata": {
        "id": "6VihcSwPh-Dc"
      },
      "source": [
        "# Task 1: K-Means Clustering (20 pts)\n",
        "\n",
        "## Goal\n",
        "Implement a complete K-means clustering algorithm from scratch and test it on real data.\n",
        "\n",
        "### Core Functions\n",
        "1. **Distance calculation** - Compute Euclidean distance between points\n",
        "2. **Find nearest centroid** - Determine which centroid is closest to a given point  \n",
        "3. **Update assignments** - Assign all data points to their nearest centroids\n",
        "4. **Update centroids** - Recalculate centroid positions based on assigned points\n",
        "5. **Full K-means algorithm** - Combine everything with proper initialization and convergence\n",
        "\n",
        "### Testing\n",
        "Your implementation will be tested on the digits dataset to see how well it can identify different digit clusters compared to random guessing.\n",
        "\n",
        "## Evaluation\n",
        "- All functions work correctly and pass unit tests\n",
        "- K-means achieves better clustering than random assignment on MNIST dataset\n",
        "\n"
      ]
    },
    {
      "cell_type": "code",
      "execution_count": 3,
      "metadata": {
        "id": "J6bo9tdah-Df",
        "tags": [
          "otter_answer_cell"
        ]
      },
      "outputs": [],
      "source": [
        "def distance_euclidean(a, b):\n",
        "    \"\"\"Compute the Euclidean distance between two points a and b.\n",
        "    Input: a, b: numpy arrays of shape (d,)\n",
        "    Output: Euclidean distance between a and b.\n",
        "    \"\"\"\n",
        "    return np.sqrt(np.sum((a - b) ** 2))\n"
      ]
    },
    {
      "cell_type": "code",
      "execution_count": 4,
      "metadata": {
        "deletable": false,
        "editable": false,
        "colab": {
          "base_uri": "https://localhost:8080/",
          "height": 46
        },
        "id": "FZhpJ8_T21C1",
        "outputId": "0da927f4-1dd6-4d76-8c23-4545d48b9f1a"
      },
      "outputs": [
        {
          "output_type": "execute_result",
          "data": {
            "text/plain": [
              "distance_euclidean results: All test cases passed!"
            ],
            "text/html": [
              "<p><strong><pre style='display: inline;'>distance_euclidean</pre></strong> passed! 🌈</p>"
            ]
          },
          "metadata": {},
          "execution_count": 4
        }
      ],
      "source": [
        "grader.check(\"distance_euclidean\")"
      ]
    },
    {
      "cell_type": "code",
      "execution_count": 7,
      "metadata": {
        "id": "NzD6s2jVh-Dj",
        "tags": [
          "otter_answer_cell"
        ]
      },
      "outputs": [],
      "source": [
        "def find_closest_centroid(x, centroids):\n",
        "    \"\"\"Find the index of the closest centroid to point x.\n",
        "    Input: x: numpy array of shape (d,)\n",
        "           centroids: numpy array of shape (k, d) where each row is a centroid\n",
        "    Output: index of the closest centroid to x.\n",
        "    \"\"\"\n",
        "    distances = []\n",
        "    for centroid in centroids:\n",
        "      distances.append(distance_euclidean(x, centroid))\n",
        "    return np.argmin(distances)"
      ]
    },
    {
      "cell_type": "code",
      "execution_count": 8,
      "metadata": {
        "deletable": false,
        "editable": false,
        "colab": {
          "base_uri": "https://localhost:8080/",
          "height": 46
        },
        "id": "HqrQaj-p21C1",
        "outputId": "491ccf1b-f726-40eb-819f-df52c3a1d45a"
      },
      "outputs": [
        {
          "output_type": "execute_result",
          "data": {
            "text/plain": [
              "find_closest_centroid results: All test cases passed!"
            ],
            "text/html": [
              "<p><strong><pre style='display: inline;'>find_closest_centroid</pre></strong> passed! 💯</p>"
            ]
          },
          "metadata": {},
          "execution_count": 8
        }
      ],
      "source": [
        "grader.check(\"find_closest_centroid\")"
      ]
    },
    {
      "cell_type": "code",
      "execution_count": 9,
      "metadata": {
        "id": "J1QUJ3Tah-Dl",
        "tags": [
          "otter_answer_cell"
        ]
      },
      "outputs": [],
      "source": [
        "def update_assignments(X, centroids):\n",
        "       \"\"\"Update the cluster assignments for each point in X.\n",
        "       Input: X: numpy array of shape (n, d)\n",
        "                 centroids: numpy array of shape (k, d)\n",
        "       Output: numpy array of shape (n,) containing the index of the closest centroid for each point\n",
        "       \"\"\"\n",
        "       assignments = []\n",
        "       for x in X:\n",
        "         assignments.append(find_closest_centroid(x, centroids))\n",
        "       return np.array(assignments)\n",
        "\n",
        "\n"
      ]
    },
    {
      "cell_type": "code",
      "execution_count": 10,
      "metadata": {
        "deletable": false,
        "editable": false,
        "colab": {
          "base_uri": "https://localhost:8080/",
          "height": 46
        },
        "id": "ki5P-wQ421C2",
        "outputId": "99b922e9-f108-4ef8-81df-a5891ae9428d"
      },
      "outputs": [
        {
          "output_type": "execute_result",
          "data": {
            "text/plain": [
              "update_assignments results: All test cases passed!"
            ],
            "text/html": [
              "<p><strong><pre style='display: inline;'>update_assignments</pre></strong> passed! 🚀</p>"
            ]
          },
          "metadata": {},
          "execution_count": 10
        }
      ],
      "source": [
        "grader.check(\"update_assignments\")"
      ]
    },
    {
      "cell_type": "code",
      "execution_count": 32,
      "metadata": {
        "id": "ZlHtK4z2h-Dn",
        "tags": [
          "otter_answer_cell"
        ]
      },
      "outputs": [],
      "source": [
        "def update_centroids(X, assignments):\n",
        "    \"\"\"\n",
        "    Update centroids by computing the mean of all points assigned to each centroid.\n",
        "    Input:\n",
        "        X: numpy array of shape (n, d)\n",
        "        assignments: numpy array of shape (n,) with cluster indices (0..k-1)\n",
        "\n",
        "    ***** Note *******\n",
        "    In order to make the result deterministic, initialize centroids with zeros.\n",
        "    For centroids with no assignment, remove them.\n",
        "    **** End Note ****\n",
        "\n",
        "    Output:\n",
        "        centroids: numpy array of shape (k, d)\n",
        "    \"\"\"\n",
        "   # Determine k from the assignments\n",
        "    k = len(np.unique(assignments))\n",
        "    n_features = X.shape[1]\n",
        "\n",
        "    new_centroids = []\n",
        "\n",
        "    for i in range(k):\n",
        "        # Find all points assigned to cluster i\n",
        "        cluster_points = X[assignments == i]\n",
        "        if len(cluster_points) > 0:\n",
        "            # Calculate mean of assigned points\n",
        "            new_centroid = np.mean(cluster_points, axis=0)\n",
        "            new_centroids.append(new_centroid)\n",
        "    return np.array(new_centroids)\n"
      ]
    },
    {
      "cell_type": "code",
      "execution_count": 33,
      "metadata": {
        "deletable": false,
        "editable": false,
        "colab": {
          "base_uri": "https://localhost:8080/",
          "height": 46
        },
        "id": "byd0RjSA21C3",
        "outputId": "e641420c-0cdf-428f-b890-2ecf9e08019b"
      },
      "outputs": [
        {
          "output_type": "execute_result",
          "data": {
            "text/plain": [
              "update_centroids results: All test cases passed!"
            ],
            "text/html": [
              "<p><strong><pre style='display: inline;'>update_centroids</pre></strong> passed! 🌈</p>"
            ]
          },
          "metadata": {},
          "execution_count": 33
        }
      ],
      "source": [
        "grader.check(\"update_centroids\")"
      ]
    },
    {
      "cell_type": "markdown",
      "metadata": {
        "deletable": false,
        "editable": false,
        "id": "KqiAGhw521C3"
      },
      "source": [
        "\n",
        "The evaluation process for K-means clustering on MNIST digits dataset follows these key steps:\n",
        "\n",
        "### 1. Data Loading & Preprocessing\n",
        "We will load the digits dataset (8x8 images of handwritten digits 0-9) from sklearn.datasets. We will split into training (70%) and test (30%) sets. We will use the training set to learn cluster centroids.\n",
        "\n",
        "### 2. K-means Clustering\n",
        "Run `myKmeans` on training data with k=10 clusters (one for each digit) and get the final centroids and assignments.\n",
        "\n",
        "### 3. Cluster-to-Label Mapping\n",
        "We use Hungarian algorithm https://en.wikipedia.org/wiki/Hungarian_algorithm to optimally map clusters to digit labels. In short, it tries to match the cluster assignments to the true labels by building a cost matrix based on how well each cluster represents each digit.\n",
        "\n",
        "### 4. Test Set Prediction\n",
        "We will assign test points to the nearest centroids using `update_assignments()`. Then, we will map the cluster assignments to digit labels using the mapping from step 3.\n",
        "\n",
        "### 5. Performance Evaluation\n",
        "The evaluation is done by calculating Adjusted Rand Index (ARI) between predicted and true labels and comparing against random baseline (random digit assignment). As long as the K-means ARI must exceed random ARI by 0.3, we consider it a success. The private test has the same structure but different random seed.\n",
        "\n",
        "### 6. Visualization\n",
        "At the end, we will display the 10 centroids as 8x8 images to see what each cluster learned\n",
        "\n",
        "The evaluation shows that K-means should discover meaningful digit patterns and significantly outperform random guessing at clustering similar digits together."
      ]
    },
    {
      "cell_type": "code",
      "execution_count": 51,
      "metadata": {
        "id": "gS6YhzLah-Dq",
        "tags": [
          "otter_answer_cell"
        ]
      },
      "outputs": [],
      "source": [
        "def myKmeans(X, k, init_centroids=None, max_iters=100, epsilon=1e-4):\n",
        "    \"\"\"\n",
        "    K-means clustering algorithm.\n",
        "\n",
        "    Input:\n",
        "        X (np.ndarray): data points, shape (n, d)\n",
        "        k (int): number of clusters\n",
        "        init_centroids (np.ndarray, optional): initial centroids, shape (k, d)\n",
        "        max_iters (int): maximum number of iterations\n",
        "        epsilon (float): convergence threshold\n",
        "\n",
        "    Output:\n",
        "        tuple: centroids (np.ndarray of shape (k, d)), assignments of each data point (np.ndarray of shape (n,))\n",
        "    \"\"\"\n",
        "    if init_centroids is not None:\n",
        "        centroids = init_centroids\n",
        "    else:\n",
        "        indices = np.random.choice(X.shape[0], k, replace=False)\n",
        "        centroids = X[indices].copy()\n",
        "\n",
        "    # Main K-means loop\n",
        "    for iteration in range(max_iters):\n",
        "        # Step 1: Assign points to nearest centroids\n",
        "        assignments = update_assignments(X, centroids)\n",
        "\n",
        "        # Step 2: Update centroids\n",
        "        new_centroids = update_centroids(X, assignments)\n",
        "\n",
        "        # Check for convergence (centroids don't change significantly)\n",
        "        if np.allclose(centroids, new_centroids, rtol=epsilon):\n",
        "            #print(f\"Converged after {iteration + 1} iterations\")\n",
        "            break\n",
        "\n",
        "        centroids = new_centroids\n",
        "\n",
        "    # Final assignments\n",
        "    final_assignments = update_assignments(X, centroids)\n",
        "\n",
        "    return centroids, final_assignments\n"
      ]
    },
    {
      "cell_type": "code",
      "execution_count": 52,
      "metadata": {
        "deletable": false,
        "editable": false,
        "id": "4GYDWL8Y21C3"
      },
      "outputs": [],
      "source": [
        "from sklearn.datasets import load_digits\n",
        "from sklearn.model_selection import train_test_split\n",
        "from sklearn.metrics import adjusted_rand_score\n",
        "from scipy.optimize import linear_sum_assignment\n",
        "def test_MNIST():\n",
        "    # Load the digits dataset (acts as the MNIST dataset for demonstration)\n",
        "    X, y = load_digits(return_X_y=True)\n",
        "\n",
        "    # Split the data into training and test sets\n",
        "    X_train, X_test, y_train, y_test = train_test_split(X, y, test_size=0.3)\n",
        "\n",
        "    # Number of clusters (10 digits)\n",
        "    k = len(np.unique(y_train))\n",
        "\n",
        "\n",
        "    centroids, assignments = myKmeans(X_train, k)\n",
        "    # Map cluster indices to actual digit labels using the Hungarian algorithm\n",
        "    train_pred_clusters = assignments\n",
        "    cost_matrix = np.zeros((k, k))\n",
        "    for i in range(k):\n",
        "        for j in range(k):\n",
        "            mask = train_pred_clusters == i\n",
        "            cost_matrix[i, j] = -np.sum(y_train[mask] == j)\n",
        "\n",
        "    row_ind, col_ind = linear_sum_assignment(cost_matrix)\n",
        "    cluster_to_label = {row: col for row, col in zip(row_ind, col_ind)}\n",
        "\n",
        "    # Predict labels for the test data\n",
        "    # Assign each test point to the nearest centroid\n",
        "    test_pred_clusters = update_assignments(X_test, centroids)\n",
        "    test_pred_labels = np.array([cluster_to_label[c] for c in test_pred_clusters])\n",
        "\n",
        "    # Compute the Adjusted Rand Index (ARI) for the K-means predictions\n",
        "    ari_score = adjusted_rand_score(y_test, test_pred_labels)\n",
        "\n",
        "    # Baseline comparison: Random guess for each test label\n",
        "    random_pred_labels = np.random.choice(np.unique(y_train), size=len(y_test))\n",
        "    ari_score_random = adjusted_rand_score(y_test, random_pred_labels)\n",
        "\n",
        "    return ari_score, ari_score_random, centroids, cluster_to_label\n",
        "ari_score, ari_score_random, centroids, cluster_to_label = test_MNIST()"
      ]
    },
    {
      "cell_type": "code",
      "execution_count": 53,
      "metadata": {
        "deletable": false,
        "editable": false,
        "colab": {
          "base_uri": "https://localhost:8080/",
          "height": 46
        },
        "id": "NYQ8HbNz21C4",
        "outputId": "18823324-9aac-4de9-fb91-50d06e7e11c0"
      },
      "outputs": [
        {
          "output_type": "execute_result",
          "data": {
            "text/plain": [
              "kmeans results: All test cases passed!"
            ],
            "text/html": [
              "<p><strong><pre style='display: inline;'>kmeans</pre></strong> passed! 🌈</p>"
            ]
          },
          "metadata": {},
          "execution_count": 53
        }
      ],
      "source": [
        "grader.check(\"kmeans\")"
      ]
    },
    {
      "cell_type": "markdown",
      "metadata": {
        "deletable": false,
        "editable": false,
        "id": "yQ1Zy9mg21C4"
      },
      "source": [
        "<!-- BEGIN QUESTION -->\n",
        "\n"
      ]
    },
    {
      "cell_type": "code",
      "execution_count": 54,
      "metadata": {
        "tags": [
          "otter_answer_cell"
        ],
        "colab": {
          "base_uri": "https://localhost:8080/",
          "height": 583
        },
        "id": "obXPHGOP21C4",
        "outputId": "8634804b-64cc-43a5-f153-1fc0a8a12fed"
      },
      "outputs": [
        {
          "output_type": "display_data",
          "data": {
            "text/plain": [
              "<Figure size 1200x600 with 10 Axes>"
            ],
            "image/png": "[encoded data removed]"
          },
          "metadata": {}
        }
      ],
      "source": [
        "# Visualize the centroids as 8x8 digit images\n",
        "fig, axes = plt.subplots(2, 5, figsize=(12, 6))\n",
        "axes = axes.ravel()\n",
        "\n",
        "for i in range(10):\n",
        "    # Reshape centroid back to 8x8 image\n",
        "    centroid_image = centroids[i].reshape(8, 8)\n",
        "    axes[i].imshow(centroid_image, cmap='gray')\n",
        "    # Show which digit this centroid represents\n",
        "    assigned_digit = cluster_to_label.get(i, '?')\n",
        "    axes[i].set_title(f'Cluster {i} to Digit {assigned_digit}')\n",
        "    axes[i].axis('off')\n",
        "\n",
        "plt.suptitle('K-means Centroids as Digit Images', fontsize=14)\n",
        "plt.tight_layout()\n",
        "plt.show()"
      ]
    },
    {
      "cell_type": "markdown",
      "metadata": {
        "deletable": false,
        "editable": false,
        "id": "-Kokxfq921C4"
      },
      "source": [
        "<!-- END QUESTION -->\n",
        "\n",
        "<!-- BEGIN QUESTION -->\n",
        "\n",
        "## What other ways we can initialize centroids? List at least 2 and their advantages/disadvantages. [1.5 pts]\n",
        "\n",
        "\n"
      ]
    },
    {
      "cell_type": "markdown",
      "metadata": {
        "tags": [
          "otter_answer_cell"
        ],
        "id": "vyv6JIdL21C4"
      },
      "source": [
        "_Type your answer here, replacing this text._\n",
        "\n",
        "1.   Divide  data space into a grid and place centroids at evenly spaced grid points.\n",
        "2.   Pick the first centroid randomly, then for each next centroid, choose points that are far away from already-chosen centroids.\n",
        "\n"
      ]
    },
    {
      "cell_type": "markdown",
      "metadata": {
        "deletable": false,
        "editable": false,
        "id": "cyhlkC_6h-Du"
      },
      "source": [
        "<!-- END QUESTION -->\n",
        "\n",
        "# Task 2: Three Coins Model (30 pts)\n",
        "\n",
        "### Purpose\n",
        "- Develop an intuitive understanding of the EM algorithm using a simple example.  \n",
        "- Implement a basic EM algorithm to solve the three coins problem.\n",
        "\n",
        "### Problem Statement\n",
        "Consider three coins **A**, **B**, and **C**, with probabilities of landing heads denoted as $p_0$, $p_1$, and $p_2$, respectively.  \n",
        "\n",
        "The process is as follows:\n",
        "1. Flip coin **A**.  \n",
        "   - If **A** shows heads, flip coin **B**.  \n",
        "   - If **A** shows tails, flip coin **C**.  \n",
        "2. Record the outcome of the second flip as $y_i$, where:  \n",
        "   - $y_i = 1$ if the result is heads.  \n",
        "   - $y_i = 0$ if the result is tails.  \n",
        "\n",
        "Given a sequence of observed outcomes $y_0, y_1, \\dots, y_n$, the task is to estimate the parameters $p_0$, $p_1$, and $p_2$ using the Expectation-Maximization (EM) algorithm.\n"
      ]
    },
    {
      "cell_type": "markdown",
      "metadata": {
        "deletable": false,
        "editable": false,
        "id": "A8r3GvbGh-D1"
      },
      "source": [
        "<!-- BEGIN QUESTION -->\n",
        "\n",
        "# Complete Data Log-Likelihood Function\n",
        "\n",
        "Let's simplify the problem by assuming that the outcome of the first coin flip is known and denoted as $z_i$, where:\n",
        "\n",
        "- $z_i = 1$ if coin $B$ was used,  \n",
        "- $z_i = 0$ if coin $C$ was used.  \n",
        "\n",
        "Given $z_i$ and the observed data $y_i$, can you define the log-likelihood function $L(z_i, y_i, p_0, p_1, p_2) = \\log P(z_i, y_i \\mid p_0, p_1, p_2)$ and implement it? [Writing is optional and won't be graded, but coding has points]"
      ]
    },
    {
      "cell_type": "markdown",
      "metadata": {
        "tags": [
          "otter_answer_cell"
        ],
        "id": "ae54lw-m21C5"
      },
      "source": [
        "_Type your answer here, replacing this text._"
      ]
    },
    {
      "cell_type": "markdown",
      "metadata": {
        "deletable": false,
        "editable": false,
        "id": "I1QrG4w621C5"
      },
      "source": [
        "<!-- END QUESTION -->\n",
        "\n"
      ]
    },
    {
      "cell_type": "code",
      "execution_count": 39,
      "metadata": {
        "id": "MP9xoCOJh-D2",
        "tags": [
          "otter_answer_cell"
        ]
      },
      "outputs": [],
      "source": [
        "import math\n",
        "def compute_log_likelihood(y_i, z_i, p_0, p_1, p_2):\n",
        "    \"\"\"\n",
        "    Compute complete-data log-likelihood for one trial.\n",
        "\n",
        "    Input:\n",
        "        y_i (int): observed result of the second toss, 1=heads, 0=tails\n",
        "        z_i (int): latent branch,\n",
        "                   1 if coin A=H -> coin B,\n",
        "                   0 if coin A=T -> coin C\n",
        "        p_0 (float): P(H on coin A)\n",
        "        p_1 (float): P(H on coin B)\n",
        "        p_2 (float): P(H on coin C)\n",
        "\n",
        "    Output:\n",
        "        float: log P(y_i, z_i | parameters)\n",
        "    \"\"\"\n",
        "    # tiny epsilon so we never take log(0)\n",
        "    eps = 1e-12\n",
        "\n",
        "    if z_i == 1:\n",
        "        # went to coin B\n",
        "        log_pA = math.log(max(p_0, eps))\n",
        "        log_pY = y_i * math.log(max(p_1, eps)) + (1 - y_i) * math.log(max(1 - p_1, eps))\n",
        "        return log_pA + log_pY\n",
        "    else:\n",
        "        # went to coin C\n",
        "        log_pA = math.log(max(1 - p_0, eps))\n",
        "        log_pY = y_i * math.log(max(p_2, eps)) + (1 - y_i) * math.log(max(1 - p_2, eps))\n",
        "        return log_pA + log_pY\n"
      ]
    },
    {
      "cell_type": "code",
      "execution_count": 40,
      "metadata": {
        "deletable": false,
        "editable": false,
        "colab": {
          "base_uri": "https://localhost:8080/",
          "height": 46
        },
        "id": "NLQDT8fp21C5",
        "outputId": "c1deec61-9e49-403c-9ff5-238fe7d6ff93"
      },
      "outputs": [
        {
          "output_type": "execute_result",
          "data": {
            "text/plain": [
              "complete-log-likelihood-coding results: All test cases passed!"
            ],
            "text/html": [
              "<p><strong><pre style='display: inline;'>complete-log-likelihood-coding</pre></strong> passed! 🎉</p>"
            ]
          },
          "metadata": {},
          "execution_count": 40
        }
      ],
      "source": [
        "grader.check(\"complete-log-likelihood-coding\")"
      ]
    },
    {
      "cell_type": "markdown",
      "metadata": {
        "deletable": false,
        "editable": false,
        "id": "mGeNmzhRh-D4"
      },
      "source": [
        "<!-- BEGIN QUESTION -->\n",
        "\n",
        "### Write the complete log-likelihood formula for all observations $y_0, y_1, \\dots, y_n$ with corresponding latent variables $z_0, z_1, \\dots, z_n$. [Optional, won't be graded]\n",
        "\n",
        "\n"
      ]
    },
    {
      "cell_type": "markdown",
      "metadata": {
        "tags": [
          "otter_answer_cell"
        ],
        "id": "c8v8daRD21C5"
      },
      "source": [
        "_Type your answer here, replacing this text._"
      ]
    },
    {
      "cell_type": "markdown",
      "metadata": {
        "deletable": false,
        "editable": false,
        "id": "ZOIak-AA21C6"
      },
      "source": [
        "<!-- END QUESTION -->\n",
        "\n",
        "<!-- BEGIN QUESTION -->\n",
        "\n",
        "\n",
        "Given the observations $Y = (y_0, y_1, \\dots, y_n)$ and the latent variables $Z = (z_0, z_1, \\dots, z_n)$, how can we maximize the log-likelihood function $L(Y, Z, p_0, p_1, p_2)$ with respect to the parameters $p_0$, $p_1$, and $p_2$? [Optional, won't be graded]"
      ]
    },
    {
      "cell_type": "markdown",
      "metadata": {
        "tags": [
          "otter_answer_cell"
        ],
        "id": "Y_8V2WmP21C6"
      },
      "source": [
        "_Type your answer here, replacing this text._"
      ]
    },
    {
      "cell_type": "markdown",
      "metadata": {
        "deletable": false,
        "editable": false,
        "id": "t86d8pZKh-D4"
      },
      "source": [
        "<!-- END QUESTION -->\n",
        "\n",
        "<!-- BEGIN QUESTION -->\n",
        "\n",
        "## Incomplete Data Log-Likelihood - Posterior of $z_i$\n",
        "Now, let's assume that you do not know the result of the first coin $z_i$. Although you do not know the first coin result, you can still 'guess' by computing the posterior probability of $z_i$ given the observed data $y_i$ and the parameters $p_0, p_1, p_2$. From now on, we will use $\\theta = (p_0, p_1, p_2)$ to denote the parameters of the model.\n",
        "\n",
        "Let's note the latent variable as $z_i$ where $z_i = 1$ if the coin $B$ was used and $z_i = 0$ if the coin $C$ was used. We can estimate the latent variable $z_i$ given the observed data $y_i$.\n",
        "\n",
        "\n",
        " What is the posterior probability $P(z_i = 1 | y_i, \\theta)$? Can you write it mathematically and implement it? [Writing is optional and won't be graded, but coding has points]\n"
      ]
    },
    {
      "cell_type": "markdown",
      "metadata": {
        "tags": [
          "otter_answer_cell"
        ],
        "id": "pqVzYrTD21C6"
      },
      "source": [
        "_Type your answer here, replacing this text._"
      ]
    },
    {
      "cell_type": "markdown",
      "metadata": {
        "deletable": false,
        "editable": false,
        "id": "tFBhgek121C6"
      },
      "source": [
        "<!-- END QUESTION -->\n",
        "\n"
      ]
    },
    {
      "cell_type": "code",
      "execution_count": 55,
      "metadata": {
        "id": "NON4pv0Qh-D5",
        "tags": [
          "otter_answer_cell"
        ]
      },
      "outputs": [],
      "source": [
        "def compute_posterior(y_i, p_0, p_1, p_2):\n",
        "    \"\"\"\n",
        "    Compute the posterior probability P(z_i = 1 | y_i, theta)\n",
        "    Input: y_i (observation), p_0 (prior for coin A), p_1 (likelihood for coin B), p_2 (likelihood for coin C)\n",
        "    Output: Posterior probability P(z_i = 1 | y_i, theta)\n",
        "    \"\"\"\n",
        "    # Bernoulli likelihood helper:\n",
        "    def bernoulli_p(y, p):\n",
        "        return p if y == 1 else (1 - p)\n",
        "\n",
        "    # Numerator: prior for B times likelihood of y under B\n",
        "    num = p_0 * bernoulli_p(y_i, p_1)\n",
        "\n",
        "    # Denominator: add the C branch\n",
        "    den = num + (1 - p_0) * bernoulli_p(y_i, p_2)\n",
        "\n",
        "    # small guard against divide-by-zero (optional)\n",
        "    if den == 0:\n",
        "        return 0.5  # neutral fallback\n",
        "    return num / den"
      ]
    },
    {
      "cell_type": "code",
      "execution_count": 56,
      "metadata": {
        "deletable": false,
        "editable": false,
        "colab": {
          "base_uri": "https://localhost:8080/",
          "height": 46
        },
        "id": "VokLCRJO21C6",
        "outputId": "52a29776-76bc-4bfd-be54-70dc93768b4c"
      },
      "outputs": [
        {
          "output_type": "execute_result",
          "data": {
            "text/plain": [
              "posterior-of-z_i-coding results: All test cases passed!"
            ],
            "text/html": [
              "<p><strong><pre style='display: inline;'>posterior-of-z_i-coding</pre></strong> passed! 🙌</p>"
            ]
          },
          "metadata": {},
          "execution_count": 56
        }
      ],
      "source": [
        "grader.check(\"posterior-of-z_i-coding\")"
      ]
    },
    {
      "cell_type": "markdown",
      "metadata": {
        "deletable": false,
        "editable": false,
        "id": "lkqPUTbGh-D7",
        "vscode": {
          "languageId": "raw"
        }
      },
      "source": [
        "What is the posterior probability $P(z_i = 0 | y_i, \\theta)$?"
      ]
    },
    {
      "cell_type": "code",
      "execution_count": 57,
      "metadata": {
        "id": "tdOhM5eth-D7",
        "tags": [
          "otter_answer_cell"
        ]
      },
      "outputs": [],
      "source": [
        "def compute_posterior_zero(y_i, p_0, p_1, p_2):\n",
        "    \"\"\"\n",
        "    Compute the posterior probability P(z_i = 0 | y_i, \\theta)\n",
        "    Input: y_i (observation), p_0 (prior for coin A), p_1 (likelihood for coin B), p_2 (likelihood for coin C)\n",
        "    Output: Posterior probability P(z_i = 0 | y_i, \\theta)\n",
        "    \"\"\"\n",
        "    def bernoulli_p(y, p):\n",
        "        return p if y == 1 else (1 - p)\n",
        "\n",
        "    # numerator: prior for going to coin C times likelihood of y under C\n",
        "    num = (1 - p_0) * bernoulli_p(y_i, p_2)\n",
        "\n",
        "    # denominator: both branches\n",
        "    den = p_0 * bernoulli_p(y_i, p_1) + (1 - p_0) * bernoulli_p(y_i, p_2)\n",
        "\n",
        "    if den == 0:\n",
        "        return 0.5\n",
        "    return num / den"
      ]
    },
    {
      "cell_type": "code",
      "execution_count": 58,
      "metadata": {
        "deletable": false,
        "editable": false,
        "colab": {
          "base_uri": "https://localhost:8080/",
          "height": 46
        },
        "id": "xl_0cvfP21C7",
        "outputId": "729f544c-aa78-4403-a335-a1a1a00486f4"
      },
      "outputs": [
        {
          "output_type": "execute_result",
          "data": {
            "text/plain": [
              "posterior-of-z_i-coding-zero results: All test cases passed!"
            ],
            "text/html": [
              "<p><strong><pre style='display: inline;'>posterior-of-z_i-coding-zero</pre></strong> passed! ✨</p>"
            ]
          },
          "metadata": {},
          "execution_count": 58
        }
      ],
      "source": [
        "grader.check(\"posterior-of-z_i-coding-zero\")"
      ]
    },
    {
      "cell_type": "markdown",
      "metadata": {
        "id": "HHBF8EmFh-D_",
        "vscode": {
          "languageId": "raw"
        }
      },
      "source": [
        "Since we do not know $z$, but from Jensen Inequality we learned in class, we can lower bound the euqation. Thus we use the posterior probability of $z$ under the current parameters to estimate the log-likelihood function. This is called the Q-function in the EM algorithm. The Q-function is defined as follows:\n",
        "```math\n",
        "Q(\\theta | \\theta_k) = \\mathbb{E}_{z \\sim P(z | y, \\theta_k)} [\\log P(y, z | \\theta)]\n",
        "```\n",
        "Note that $\\theta_k$ is the current parameter and $\\theta$ is the new parameter we want to maxmize the log-likelihood for."
      ]
    },
    {
      "cell_type": "markdown",
      "metadata": {
        "deletable": false,
        "editable": false,
        "id": "l6364_kbh-D_",
        "vscode": {
          "languageId": "raw"
        }
      },
      "source": [
        "### E-step\n",
        "Calculate the log-likelihood function $Q(p_0, p_1, p_2 | p_0^{(t)}, p_1^{(t)}, p_2^{(t)})$ using the posterior probability of $z_i$ under the current parameters $p_0^{(t)}, p_1^{(t)}, p_2^{(t)}$. The return should be log-likelihood of $p_0, p_1, p_2$ given the current parameters $p_0^{(t)}, p_1^{(t)}, p_2^{(t)}$ and observations $Y = (y_0, y_1, ..., y_n)$."
      ]
    },
    {
      "cell_type": "code",
      "execution_count": 59,
      "metadata": {
        "id": "1GWmZITRh-EX",
        "tags": [
          "otter_answer_cell"
        ]
      },
      "outputs": [],
      "source": [
        "import math\n",
        "\n",
        "def _bern_lik_log(y, p, eps=1e-12):\n",
        "    # log Bernoulli likelihood: y*log p + (1-y)*log(1-p)\n",
        "    p = min(max(p, eps), 1 - eps)  # clamp away from 0/1 for stability\n",
        "    return y * math.log(p) + (1 - y) * math.log(1 - p)\n",
        "\n",
        "def _posterior_B(y, p0_t, p1_t, p2_t, eps=1e-12):\n",
        "    # gamma_i = P(z_i=1 | y_i, theta_t) using Bayes rule\n",
        "    def bern(y, p): return p if y == 1 else (1 - p)\n",
        "    num = p0_t * bern(y, p1_t)\n",
        "    den = num + (1 - p0_t) * bern(y, p2_t)\n",
        "    if den <= eps:   # safety\n",
        "        return 0.5\n",
        "    return num / den\n",
        "\n",
        "def Q_function(Y, p_0, p_1, p_2, p_0_t, p_1_t, p_2_t):\n",
        "    \"\"\"\n",
        "    Compute the Q-function for the EM algorithm.\n",
        "\n",
        "    Input:\n",
        "        Y (list of int): observed results of the second toss, 1=heads, 0=tails\n",
        "        p_0 (float): current estimate of P(H on coin A)\n",
        "        p_1 (float): current estimate of P(H on coin B)\n",
        "        p_2 (float): current estimate of P(H on coin C)\n",
        "        p_0_t (float): previous estimate of P(H on coin A)\n",
        "        p_1_t (float): previous estimate of P(H on coin B)\n",
        "        p_2_t (float): previous estimate of P(H on coin C)\n",
        "\n",
        "    Output:\n",
        "        float: Q(p_0, p_1, p_2 | p_0_t, p_1_t, p_2_t)\n",
        "    \"\"\"\n",
        "    total = 0.0\n",
        "    for y in Y:\n",
        "        gamma = _posterior_B(y, p_0_t, p_1_t, p_2_t)  # responsibility for branch B\n",
        "        # contribution if branch B (z=1)\n",
        "        total += gamma * (math.log(max(p_0, 1e-12)) + _bern_lik_log(y, p_1))\n",
        "        # contribution if branch C (z=0)\n",
        "        total += (1 - gamma) * (math.log(max(1 - p_0, 1e-12)) + _bern_lik_log(y, p_2))\n",
        "    return total\n"
      ]
    },
    {
      "cell_type": "code",
      "execution_count": 60,
      "metadata": {
        "deletable": false,
        "editable": false,
        "colab": {
          "base_uri": "https://localhost:8080/",
          "height": 46
        },
        "id": "u8Unsilx21DA",
        "outputId": "868d7113-f9c5-4db7-db13-76f5261e3b5e"
      },
      "outputs": [
        {
          "output_type": "execute_result",
          "data": {
            "text/plain": [
              "q-function results: All test cases passed!"
            ],
            "text/html": [
              "<p><strong><pre style='display: inline;'>q-function</pre></strong> passed! 💯</p>"
            ]
          },
          "metadata": {},
          "execution_count": 60
        }
      ],
      "source": [
        "grader.check(\"q-function\")"
      ]
    },
    {
      "cell_type": "markdown",
      "metadata": {
        "deletable": false,
        "editable": false,
        "id": "RQMjbFQSh-EZ",
        "vscode": {
          "languageId": "raw"
        }
      },
      "source": [
        "# M-Step\n",
        "Maximize the Q-function $Q(p_0, p_1, p_2 | p_0^{(t)}, p_1^{(t)}, p_2^{(t)})$ with respect to the parameters $p_0$, $p_1$, and $p_2$. The return should be the new parameters $p_0^{(t+1)}$, $p_1^{(t+1)}$, and $p_2^{(t+1)}$ that maximize the Q-function."
      ]
    },
    {
      "cell_type": "code",
      "execution_count": 61,
      "metadata": {
        "id": "8olWijwOh-EZ",
        "tags": [
          "otter_answer_cell"
        ]
      },
      "outputs": [],
      "source": [
        "import random\n",
        "import math\n",
        "# E-step helper from before\n",
        "def compute_posterior(y_i, p_0, p_1, p_2):\n",
        "    def bernoulli_p(y, p): return p if y == 1 else (1 - p)\n",
        "    num = p_0 * bernoulli_p(y_i, p_1)\n",
        "    den = num + (1 - p_0) * bernoulli_p(y_i, p_2)\n",
        "    if den == 0:\n",
        "        return 0.5\n",
        "    return num / den  # gamma_i = P(z_i=1 | y_i, theta)\n",
        "\n",
        "# --------- M-step (one update given current params) ----------\n",
        "def update_parameters(Y, p_0, p_1, p_2):\n",
        "    \"\"\"\n",
        "    Update the parameters of the model using the given data.\n",
        "    Input: Y (list of observed data), p_0 (prior for coin A), p_1 (likelihood for coin B), p_2 (likelihood for coin C)\n",
        "    Output: Updated parameters (p_0_new, p_1_new, p_2_new)\n",
        "    \"\"\"\n",
        "    n = len(Y)\n",
        "    eps = 1e-12\n",
        "\n",
        "    gammas = [compute_posterior(y, p_0, p_1, p_2) for y in Y]\n",
        "\n",
        "    sum_gamma = sum(gammas)\n",
        "    sum_gamma_y = sum(g * y for g, y in zip(gammas, Y))\n",
        "    sum_1mgamma = n - sum_gamma\n",
        "    sum_1mgamma_y = sum((1 - g) * y for g, y in zip(gammas, Y))\n",
        "\n",
        "    # M-step updates (clamp slightly away from 0/1 for stability)\n",
        "    p0_new = min(max(sum_gamma / max(n, 1), eps), 1 - eps)\n",
        "    p1_new = min(max(sum_gamma_y / max(sum_gamma, eps), eps), 1 - eps)\n",
        "    p2_new = min(max(sum_1mgamma_y / max(sum_1mgamma, eps), eps), 1 - eps)\n",
        "\n",
        "    return p0_new, p1_new, p2_new"
      ]
    },
    {
      "cell_type": "code",
      "execution_count": 65,
      "metadata": {
        "id": "lYXJtjzdh-EZ",
        "tags": [
          "otter_answer_cell"
        ]
      },
      "outputs": [],
      "source": [
        "import random\n",
        "def estimate_parameters(Y, tol=1e-6, max_iter=1000):\n",
        "    \"\"\"\n",
        "    Iterate until convergence\n",
        "    Input: Y (list of observed data), tol (tolerance for convergence), max_iter (maximum number of iterations)\n",
        "    Output: Estimated parameters (p_0, p_1, p_2)\n",
        "    \"\"\"\n",
        "    p_0, p_1, p_2 = random.random(), random.random(), random.random()\n",
        "\n",
        "    for _ in range(max_iter):\n",
        "        p0_new, p1_new, p2_new = update_parameters(Y, p_0, p_1, p_2)\n",
        "\n",
        "        # check convergence (max parameter change)\n",
        "        delta = max(abs(p0_new - p_0), abs(p1_new - p_1), abs(p2_new - p_2))\n",
        "        p_0, p_1, p_2 = p0_new, p1_new, p2_new\n",
        "        if delta < tol:\n",
        "            break\n",
        "\n",
        "    return p_0, p_1, p_2\n"
      ]
    },
    {
      "cell_type": "code",
      "execution_count": 66,
      "metadata": {
        "deletable": false,
        "editable": false,
        "id": "HsFeaj-Ph-Ea",
        "outputId": "c4787645-f9e4-48f4-bb3e-fc928c125762",
        "colab": {
          "base_uri": "https://localhost:8080/"
        }
      },
      "outputs": [
        {
          "output_type": "stream",
          "name": "stdout",
          "text": [
            "True parameters: p_0=0.5, p_1=0.7, p_2=0.4\n",
            "Estimated parameters: p_0=0.4650, p_1=0.8655, p_2=0.3094\n",
            "Is it a good estimation?\n"
          ]
        }
      ],
      "source": [
        "def generate_test(p_0, p_1, p_2, n=100):\n",
        "    \"\"\"\n",
        "    Generate a test dataset based on the given parameters.\n",
        "\n",
        "    Input:\n",
        "        p_0 (float): P(H on coin A)\n",
        "        p_1 (float): P(H on coin B)\n",
        "        p_2 (float): P(H on coin C)\n",
        "        n (int): number of trials\n",
        "\n",
        "    Output:\n",
        "        list of int: generated observed results of the second toss\n",
        "    \"\"\"\n",
        "    Y = []\n",
        "    for _ in range(n):\n",
        "        z_i = 1 if random.random() < p_0 else 0\n",
        "        y_i = 1 if random.random() < (p_1 if z_i == 1 else p_2) else 0\n",
        "        Y.append(y_i)\n",
        "    return Y\n",
        "p_0, p_1, p_2 = 0.5, 0.7, 0.4\n",
        "Y_0 = generate_test(p_0, p_1, p_2, n=1000)\n",
        "p_estimated_0, p_estimated_1, p_estimated_2 = estimate_parameters(Y_0)\n",
        "print(f\"True parameters: p_0={p_0}, p_1={p_1}, p_2={p_2}\")\n",
        "print(f\"Estimated parameters: p_0={p_estimated_0:.4f}, p_1={p_estimated_1:.4f}, p_2={p_estimated_2:.4f}\")\n",
        "print(\"Is it a good estimation?\")"
      ]
    },
    {
      "cell_type": "code",
      "execution_count": 67,
      "metadata": {
        "deletable": false,
        "editable": false,
        "colab": {
          "base_uri": "https://localhost:8080/",
          "height": 46
        },
        "id": "VkZLqSEt21DA",
        "outputId": "0916e8fd-6e70-4b29-c2a1-773e9f18f738"
      },
      "outputs": [
        {
          "output_type": "execute_result",
          "data": {
            "text/plain": [
              "m-step results: All test cases passed!"
            ],
            "text/html": [
              "<p><strong><pre style='display: inline;'>m-step</pre></strong> passed! 🙌</p>"
            ]
          },
          "metadata": {},
          "execution_count": 67
        }
      ],
      "source": [
        "grader.check(\"m-step\")"
      ]
    },
    {
      "cell_type": "markdown",
      "metadata": {
        "deletable": false,
        "editable": false,
        "id": "ZVUCN_rWh-Ea"
      },
      "source": [
        "<!-- BEGIN QUESTION -->\n",
        "\n",
        "# Modified Problem: 5 Flips Per Trial\n",
        "\n",
        "In the modified version:\n",
        "1. Flip coin A once\n",
        "2. If A shows heads -> flip coin B **5 times**\n",
        "3. If A shows tails -> flip coin C **5 times**\n",
        "4. Record all 5 outcomes as a sequence: e.g., `[1, 0, 1, 1, 0]`\n",
        "\n",
        "Now each observation `y_i` is a list of 5 outcomes instead of a single outcome. We again simply and assume we now latent variables `z_i` for each sequence of flips.\n",
        "What is the complete data log-likelihood for a sequence of flips with parameter $\\theta$? [Writing is optional and won't be graded, but coding has points]\n"
      ]
    },
    {
      "cell_type": "markdown",
      "metadata": {
        "tags": [
          "otter_answer_cell"
        ],
        "id": "418ccPbY21DB"
      },
      "source": [
        "_Type your answer here, replacing this text._"
      ]
    },
    {
      "cell_type": "markdown",
      "metadata": {
        "deletable": false,
        "editable": false,
        "id": "X55IOKSE21DB"
      },
      "source": [
        "<!-- END QUESTION -->\n",
        "\n"
      ]
    },
    {
      "cell_type": "code",
      "execution_count": 68,
      "metadata": {
        "id": "LG7nyciBh-Ea",
        "tags": [
          "otter_answer_cell"
        ]
      },
      "outputs": [],
      "source": [
        "def compute_log_likelihood_sequence(y_sequence, z_i, p_0, p_1, p_2):\n",
        "    \"\"\"\n",
        "    Compute complete-data log-likelihood for a sequence of flips.\n",
        "\n",
        "    Input:\n",
        "        y_sequence (list): sequence of flip results, e.g., [1, 0, 1, 1, 0]\n",
        "        z_i (int): latent branch, 1 if coin B, 0 if coin C\n",
        "        p_0 (float): P(H on coin A)\n",
        "        p_1 (float): P(H on coin B)\n",
        "        p_2 (float): P(H on coin C)\n",
        "\n",
        "    Output:\n",
        "        float: log P(y_sequence, z_i | parameters)\n",
        "    \"\"\"\n",
        "    eps = 1e-12  # avoid log(0)\n",
        "    m = sum(int(y) for y in y_sequence)\n",
        "    T = len(y_sequence)\n",
        "\n",
        "    if z_i == 1:  # branch B\n",
        "        return (math.log(max(p_0, eps)) +\n",
        "                m * math.log(max(p_1, eps)) +\n",
        "                (T - m) * math.log(max(1 - p_1, eps)))\n",
        "    else:         # branch C\n",
        "        return (math.log(max(1 - p_0, eps)) +\n",
        "                m * math.log(max(p_2, eps)) +\n",
        "                (T - m) * math.log(max(1 - p_2, eps)))"
      ]
    },
    {
      "cell_type": "code",
      "execution_count": 69,
      "metadata": {
        "deletable": false,
        "editable": false,
        "colab": {
          "base_uri": "https://localhost:8080/",
          "height": 46
        },
        "id": "BMdieFTM21DB",
        "outputId": "586e9369-cbc4-4bea-e80d-861ed173a2c2"
      },
      "outputs": [
        {
          "output_type": "execute_result",
          "data": {
            "text/plain": [
              "log-likelihood-sequence results: All test cases passed!"
            ],
            "text/html": [
              "<p><strong><pre style='display: inline;'>log-likelihood-sequence</pre></strong> passed! 💯</p>"
            ]
          },
          "metadata": {},
          "execution_count": 69
        }
      ],
      "source": [
        "grader.check(\"log-likelihood-sequence\")"
      ]
    },
    {
      "cell_type": "markdown",
      "metadata": {
        "id": "G2y8dGRN21DB"
      },
      "source": [
        "#"
      ]
    },
    {
      "cell_type": "markdown",
      "metadata": {
        "id": "8WvMFSax21DC"
      },
      "source": [
        "## Incomplete Data Log-Likelihood - Posterior of $z_i$\n",
        "Again, let's assume that you do not know the result of the first coin $z_i$.\n",
        " What is the posterior probability $P(z_i = 1 | y_i, \\theta)$? Can you write it mathematically and implement it? [Writing is optional and won't be graded, but coding has points]"
      ]
    },
    {
      "cell_type": "markdown",
      "metadata": {
        "deletable": false,
        "editable": false,
        "id": "w3wVcP5f21DC"
      },
      "source": [
        "<!-- END QUESTION -->\n",
        "\n",
        "<!-- BEGIN QUESTION -->\n",
        "\n"
      ]
    },
    {
      "cell_type": "code",
      "execution_count": 70,
      "metadata": {
        "id": "uhLPybJ8h-Ei",
        "tags": [
          "otter_answer_cell"
        ]
      },
      "outputs": [],
      "source": [
        "import math\n",
        "\n",
        "def _counts(y_sequence):\n",
        "    m = sum(int(y) for y in y_sequence)  # heads count\n",
        "    T = len(y_sequence)\n",
        "    return m, T\n",
        "\n",
        "def compute_posterior_sequence(y_sequence, p_0, p_1, p_2):\n",
        "    \"\"\"\n",
        "    Compute P(z_i = 1 | y_sequence) for a sequence of flips.\n",
        "\n",
        "    Input:\n",
        "        y_sequence (list): sequence of flip results\n",
        "        p_0, p_1, p_2: current parameter estimates\n",
        "\n",
        "    Output:\n",
        "        float: P(z_i = 1 | y_sequence)\n",
        "    \"\"\"\n",
        "    eps = 1e-12\n",
        "    m, T = _counts(y_sequence)\n",
        "\n",
        "    # work in log-space for stability\n",
        "    log_LB = (math.log(max(p_0, eps)) +\n",
        "              m * math.log(max(p_1, eps)) +\n",
        "              (T - m) * math.log(max(1 - p_1, eps)))\n",
        "    log_LC = (math.log(max(1 - p_0, eps)) +\n",
        "              m * math.log(max(p_2, eps)) +\n",
        "              (T - m) * math.log(max(1 - p_2, eps)))\n",
        "\n",
        "    # softmax for two numbers\n",
        "    maxlog = max(log_LB, log_LC)\n",
        "    LB = math.exp(log_LB - maxlog)\n",
        "    LC = math.exp(log_LC - maxlog)\n",
        "    return LB / (LB + LC)\n",
        "\n",
        "def compute_posterior_zero_sequence(y_sequence, p_0, p_1, p_2):\n",
        "    \"\"\"\n",
        "    Compute P(z_i = 0 | y_sequence) for a sequence of flips.\n",
        "    \"\"\"\n",
        "    # complement or compute directly—both are fine\n",
        "    return 1.0 - compute_posterior_sequence(y_sequence, p_0, p_1, p_2)"
      ]
    },
    {
      "cell_type": "code",
      "execution_count": 71,
      "metadata": {
        "deletable": false,
        "editable": false,
        "colab": {
          "base_uri": "https://localhost:8080/",
          "height": 46
        },
        "id": "8ioKrW5I21DC",
        "outputId": "9c03f26c-aadf-48c6-a302-3ce902eef56f"
      },
      "outputs": [
        {
          "output_type": "execute_result",
          "data": {
            "text/plain": [
              "posterior-sequence-coding results: All test cases passed!"
            ],
            "text/html": [
              "<p><strong><pre style='display: inline;'>posterior-sequence-coding</pre></strong> passed! 🎉</p>"
            ]
          },
          "metadata": {},
          "execution_count": 71
        }
      ],
      "source": [
        "grader.check(\"posterior-sequence-coding\")"
      ]
    },
    {
      "cell_type": "markdown",
      "metadata": {
        "deletable": false,
        "editable": false,
        "id": "p_l15wgN21DC"
      },
      "source": [
        "### E-step\n",
        "Calculate the log-likelihood function but this time Y is a list of sequences, $Y = [[y_{0,0}, y_{0,1}, \\ldots, y_{0,T_0}], [y_{1,0}, y_{1,1}, \\ldots, y_{1,T_1}], \\ldots, [y_{N,0}, y_{N,1}, \\ldots, y_{N,T_N}]]$. The return should be log-likelihood of $p_0, p_1, p_2$ given the current parameters $p_0^{(t)}, p_1^{(t)}, p_2^{(t)}$ and observations $Y = (y_0, y_1, ..., y_n)$."
      ]
    },
    {
      "cell_type": "code",
      "execution_count": 72,
      "metadata": {
        "id": "-yZu7VRVh-El",
        "tags": [
          "otter_answer_cell"
        ]
      },
      "outputs": [],
      "source": [
        "import math\n",
        "def Q_function_sequence(Y_sequences, p_0, p_1, p_2, p_0_t, p_1_t, p_2_t):\n",
        "    \"\"\"\n",
        "    Compute the Q-function for sequences.\n",
        "\n",
        "    Input:\n",
        "        Y_sequences (list of lists): Each element is a sequence of 5 flips\n",
        "        p_0, p_1, p_2: current parameters to evaluate\n",
        "        p_0_t, p_1_t, p_2_t: previous iteration parameters for posterior computation\n",
        "\n",
        "    Output:\n",
        "        float: Q-function value\n",
        "    \"\"\"\n",
        "    eps = 1e-12\n",
        "\n",
        "    def posterior_B(yseq):\n",
        "        # gamma = P(z=1 | yseq, theta_t) computed in log-space\n",
        "        m = sum(int(y) for y in yseq)\n",
        "        T = len(yseq)\n",
        "\n",
        "        log_LB = (math.log(max(p_0_t, eps)) +\n",
        "                  m * math.log(max(p_1_t, eps)) +\n",
        "                  (T - m) * math.log(max(1 - p_1_t, eps)))\n",
        "        log_LC = (math.log(max(1 - p_0_t, eps)) +\n",
        "                  m * math.log(max(p_2_t, eps)) +\n",
        "                  (T - m) * math.log(max(1 - p_2_t, eps)))\n",
        "\n",
        "        mx = max(log_LB, log_LC)\n",
        "        LB = math.exp(log_LB - mx)\n",
        "        LC = math.exp(log_LC - mx)\n",
        "        return LB / (LB + LC)\n",
        "\n",
        "    total = 0.0\n",
        "    for yseq in Y_sequences:\n",
        "        m = sum(int(y) for y in yseq)\n",
        "        T = len(yseq)\n",
        "        gamma = posterior_B(yseq)  # responsibility for branch B\n",
        "\n",
        "        # expected complete-data log-likelihood terms\n",
        "        term_B = (math.log(max(p_0, eps)) +\n",
        "                  m * math.log(max(p_1, eps)) +\n",
        "                  (T - m) * math.log(max(1 - p_1, eps)))\n",
        "        term_C = (math.log(max(1 - p_0, eps)) +\n",
        "                  m * math.log(max(p_2, eps)) +\n",
        "                  (T - m) * math.log(max(1 - p_2, eps)))\n",
        "\n",
        "        total += gamma * term_B + (1 - gamma) * term_C\n",
        "\n",
        "    return total"
      ]
    },
    {
      "cell_type": "code",
      "execution_count": 73,
      "metadata": {
        "deletable": false,
        "editable": false,
        "colab": {
          "base_uri": "https://localhost:8080/",
          "height": 46
        },
        "id": "6xQMjjQ121DD",
        "outputId": "3ba3c266-d10d-4d83-de86-5236b4efcf29"
      },
      "outputs": [
        {
          "output_type": "execute_result",
          "data": {
            "text/plain": [
              "q-function-sequence results: All test cases passed!"
            ],
            "text/html": [
              "<p><strong><pre style='display: inline;'>q-function-sequence</pre></strong> passed! 🌟</p>"
            ]
          },
          "metadata": {},
          "execution_count": 73
        }
      ],
      "source": [
        "grader.check(\"q-function-sequence\")"
      ]
    },
    {
      "cell_type": "markdown",
      "metadata": {
        "id": "90KH7nrm21DD"
      },
      "source": [
        "# M-Step\n",
        "Similarly, maximize the Q-function for sequences, $Q(p_0, p_1, p_2 | p_0^{(t)}, p_1^{(t)}, p_2^{(t)})$, with respect to the parameters $p_0$, $p_1$, and $p_2$. The return should be the new parameters $p_0^{(t+1)}$, $p_1^{(t+1)}$, and $p_2^{(t+1)}$ that maximize the Q-function."
      ]
    },
    {
      "cell_type": "code",
      "execution_count": 75,
      "metadata": {
        "id": "KzU2rKzkh-Eo",
        "tags": [
          "otter_answer_cell"
        ]
      },
      "outputs": [],
      "source": [
        "import math, random\n",
        "\n",
        "# ---- helpers ----\n",
        "def _counts(yseq):\n",
        "    m = sum(int(y) for y in yseq)   # #heads\n",
        "    T = len(yseq)                   # flips in this seq\n",
        "    return m, T\n",
        "\n",
        "def _posterior_B_seq(yseq, p0, p1, p2, eps=1e-12):\n",
        "    \"\"\"gamma = P(z=1 | yseq, theta) in log-space.\"\"\"\n",
        "    m, T = _counts(yseq)\n",
        "    log_LB = (math.log(max(p0, eps)) +\n",
        "              m*math.log(max(p1, eps)) +\n",
        "              (T-m)*math.log(max(1-p1, eps)))\n",
        "    log_LC = (math.log(max(1-p0, eps)) +\n",
        "              m*math.log(max(p2, eps)) +\n",
        "              (T-m)*math.log(max(1-p2, eps)))\n",
        "    mx = max(log_LB, log_LC)\n",
        "    LB = math.exp(log_LB - mx)\n",
        "    LC = math.exp(log_LC - mx)\n",
        "    return LB / (LB + LC)\n",
        "\n",
        "def _obs_loglik_sequences(Y_sequences, p0, p1, p2, eps=1e-12):\n",
        "    \"\"\"Observed-data log-likelihood for mixture (sum over sequences).\"\"\"\n",
        "    total = 0.0\n",
        "    for yseq in Y_sequences:\n",
        "        m, T = _counts(yseq)\n",
        "        # log( p0 * p1^m (1-p1)^(T-m) + (1-p0) * p2^m (1-p2)^(T-m) )\n",
        "        a = (math.log(max(p0, eps)) +\n",
        "             m*math.log(max(p1, eps)) +\n",
        "             (T-m)*math.log(max(1-p1, eps)))\n",
        "        b = (math.log(max(1-p0, eps)) +\n",
        "             m*math.log(max(p2, eps)) +\n",
        "             (T-m)*math.log(max(1-p2, eps)))\n",
        "        mx = max(a, b)\n",
        "        total += mx + math.log(math.exp(a-mx) + math.exp(b-mx))\n",
        "    return total\n",
        "\n",
        "def update_parameters_sequence(Y_sequences, p_0, p_1, p_2):\n",
        "    \"\"\"\n",
        "    M-step: Update parameters for sequence data.\n",
        "\n",
        "    Input:\n",
        "        Y_sequences (list of lists): Each element is a sequence of 5 flips\n",
        "        p_0, p_1, p_2: current parameter estimates\n",
        "\n",
        "    Output:\n",
        "        tuple: (p_0_new, p_1_new, p_2_new)\n",
        "    \"\"\"\n",
        "    eps = 1e-12\n",
        "    sum_g = sum_gy = sum_gT = 0.0\n",
        "    sum_1g = sum_1gy = sum_1gT = 0.0\n",
        "\n",
        "    for yseq in Y_sequences:\n",
        "        m, T = _counts(yseq)\n",
        "        g = _posterior_B_seq(yseq, p_0, p_1, p_2)  # gamma_i\n",
        "\n",
        "        sum_g   += g\n",
        "        sum_gy  += g * m\n",
        "        sum_gT  += g * T\n",
        "\n",
        "        one_g   = 1.0 - g\n",
        "        sum_1g  += one_g\n",
        "        sum_1gy += one_g * m\n",
        "        sum_1gT += one_g * T\n",
        "\n",
        "    # closed-form M-step with clamping for stability\n",
        "    p0_new = min(max(sum_g / max(len(Y_sequences), 1), eps), 1 - eps)\n",
        "    p1_new = min(max(sum_gy / max(sum_gT, eps), eps), 1 - eps)\n",
        "    p2_new = min(max(sum_1gy / max(sum_1gT, eps), eps), 1 - eps)\n",
        "    return p0_new, p1_new, p2_new"
      ]
    },
    {
      "cell_type": "code",
      "execution_count": 76,
      "metadata": {
        "deletable": false,
        "editable": false,
        "colab": {
          "base_uri": "https://localhost:8080/",
          "height": 46
        },
        "id": "JfnYgpGe21DD",
        "outputId": "dd24fdd6-0226-4576-ce77-f345d0ad8586"
      },
      "outputs": [
        {
          "output_type": "execute_result",
          "data": {
            "text/plain": [
              "update-parameters results: All test cases passed!"
            ],
            "text/html": [
              "<p><strong><pre style='display: inline;'>update-parameters</pre></strong> passed! 💯</p>"
            ]
          },
          "metadata": {},
          "execution_count": 76
        }
      ],
      "source": [
        "grader.check(\"update-parameters\")"
      ]
    },
    {
      "cell_type": "code",
      "execution_count": 77,
      "metadata": {
        "id": "c_rscBMuh-Ep",
        "tags": [
          "otter_answer_cell"
        ]
      },
      "outputs": [],
      "source": [
        "def estimate_parameters_sequence(Y_sequences, tol=1e-6, max_iter=1000):\n",
        "    \"\"\"\n",
        "    Iterate until convergence\n",
        "    Input: Y (list of observed data), tol (tolerance for convergence), max_iter (maximum number of iterations)\n",
        "    Output: Estimated parameters (p_0, p_1, p_2)\n",
        "    \"\"\"\n",
        "    # random initialization\n",
        "    p_0, p_1, p_2 = random.random(), random.random(), random.random()\n",
        "\n",
        "    for _ in range(max_iter):\n",
        "        # one M-step update\n",
        "        p0_new, p1_new, p2_new = update_parameters_sequence(Y_sequences, p_0, p_1, p_2)\n",
        "\n",
        "        # check convergence\n",
        "        delta = max(abs(p0_new - p_0), abs(p1_new - p_1), abs(p2_new - p_2))\n",
        "        p_0, p_1, p_2 = p0_new, p1_new, p2_new\n",
        "        if delta < tol:\n",
        "            break\n",
        "\n",
        "    return p_0, p_1, p_2\n",
        "\n"
      ]
    },
    {
      "cell_type": "code",
      "execution_count": 78,
      "metadata": {
        "deletable": false,
        "editable": false,
        "colab": {
          "base_uri": "https://localhost:8080/"
        },
        "id": "MDTkw2Yr21DE",
        "outputId": "db8bc383-2bc2-4e7f-e779-7c11197540f4"
      },
      "outputs": [
        {
          "output_type": "stream",
          "name": "stdout",
          "text": [
            "Testing the modified algorithm with 5 flips per trial:\n",
            "True parameters: p_0=0.3, p_1=0.8, p_2=0.2\n",
            "Estimated parameters: p_0=0.7142, p_1=0.2038, p_2=0.8112\n",
            "\n",
            "First 5 generated sequences:\n",
            "Trial 1: [1, 0, 0, 0, 0] (total heads: 1)\n",
            "Trial 2: [1, 0, 0, 1, 1] (total heads: 3)\n",
            "Trial 3: [1, 0, 0, 0, 0] (total heads: 1)\n",
            "Trial 4: [1, 1, 1, 1, 1] (total heads: 5)\n",
            "Trial 5: [0, 0, 0, 0, 0] (total heads: 0)\n"
          ]
        }
      ],
      "source": [
        "def generate_test_sequence(p_0, p_1, p_2, n=100, k=5):\n",
        "    \"\"\"\n",
        "    Generate test dataset with sequences.\n",
        "\n",
        "    Input:\n",
        "        p_0, p_1, p_2: true parameters\n",
        "        n: number of trials\n",
        "        k: number of flips per trial (5 in our case)\n",
        "\n",
        "    Output:\n",
        "        list of lists: each inner list is a sequence of k flips\n",
        "    \"\"\"\n",
        "    Y_sequences = []\n",
        "    for _ in range(n):\n",
        "        # Flip coin A\n",
        "        z_i = 1 if random.random() < p_0 else 0\n",
        "\n",
        "        # Flip the selected coin k times\n",
        "        coin_prob = p_1 if z_i == 1 else p_2\n",
        "        sequence = [1 if random.random() < coin_prob else 0 for _ in range(k)]\n",
        "        Y_sequences.append(sequence)\n",
        "\n",
        "    return Y_sequences\n",
        "\n",
        "# Example usage:\n",
        "print(\"Testing the modified algorithm with 5 flips per trial:\")\n",
        "p_0, p_1, p_2 = 0.3, 0.8, 0.2\n",
        "Y_seq_test = generate_test_sequence(p_0, p_1, p_2, n=1000, k=5)\n",
        "p_est_0, p_est_1, p_est_2 = estimate_parameters_sequence(Y_seq_test)\n",
        "print(f\"True parameters: p_0={p_0}, p_1={p_1}, p_2={p_2}\")\n",
        "print(f\"Estimated parameters: p_0={p_est_0:.4f}, p_1={p_est_1:.4f}, p_2={p_est_2:.4f}\")\n",
        "\n",
        "# Show a few example sequences\n",
        "print(f\"\\nFirst 5 generated sequences:\")\n",
        "for i, seq in enumerate(Y_seq_test[:5]):\n",
        "    print(f\"Trial {i+1}: {seq} (total heads: {sum(seq)})\")"
      ]
    },
    {
      "cell_type": "code",
      "execution_count": 79,
      "metadata": {
        "deletable": false,
        "editable": false,
        "colab": {
          "base_uri": "https://localhost:8080/",
          "height": 46
        },
        "id": "aCxWbeSy21DE",
        "outputId": "94aaad4d-6bef-4d1b-abf9-351b20c8c9df"
      },
      "outputs": [
        {
          "output_type": "execute_result",
          "data": {
            "text/plain": [
              "estimate-parameters-sequence results: All test cases passed!"
            ],
            "text/html": [
              "<p><strong><pre style='display: inline;'>estimate-parameters-sequence</pre></strong> passed! 🌟</p>"
            ]
          },
          "metadata": {},
          "execution_count": 79
        }
      ],
      "source": [
        "grader.check(\"estimate-parameters-sequence\")"
      ]
    },
    {
      "cell_type": "markdown",
      "metadata": {
        "deletable": false,
        "editable": false,
        "id": "jW4f4mv0h-Eu"
      },
      "source": [
        "<!-- BEGIN QUESTION -->\n",
        "\n",
        "## What is the difference between the current version (5 flips per trial) and the naive version (1 flip per trial)? Would the new version be better for estimating the parameters? Why or why not? [Required answer 2.5 pts]"
      ]
    },
    {
      "cell_type": "markdown",
      "metadata": {
        "tags": [
          "otter_answer_cell"
        ],
        "id": "1MoPqqzp21DE"
      },
      "source": [
        "_Type your answer here, replacing this text._"
      ]
    },
    {
      "cell_type": "markdown",
      "metadata": {
        "deletable": false,
        "editable": false,
        "vscode": {
          "languageId": "raw"
        },
        "id": "lHwQAXkr21DE"
      },
      "source": [
        "<!-- END QUESTION -->\n",
        "\n",
        "<!-- BEGIN QUESTION -->\n",
        "\n",
        "# Can you think of a case where even with a large number of samples and sequence length, the estimated parameters might not be close to the true parameters? [2.5 pts]"
      ]
    },
    {
      "cell_type": "markdown",
      "metadata": {
        "tags": [
          "otter_answer_cell"
        ],
        "id": "d6WfBMFA21DE"
      },
      "source": [
        "_Type your answer here, replacing this text._"
      ]
    },
    {
      "cell_type": "markdown",
      "metadata": {
        "deletable": false,
        "editable": false,
        "id": "1_Fq0ebAh-E7",
        "vscode": {
          "languageId": "raw"
        }
      },
      "source": [
        "# References\n",
        "+ Copilot\n",
        "+ https://courses.cs.washington.edu/courses/cse160/23wi/homework/a4/\n",
        "+ https://www.cs.columbia.edu/~mcollins/6864/slides/em1.4up.pdf"
      ]
    }
  ],
  "metadata": {
    "colab": {
      "provenance": [],
      "include_colab_link": true
    },
    "kernelspec": {
      "display_name": "Python 3",
      "language": "python",
      "name": "python3"
    },
    "language_info": {
      "codemirror_mode": {
        "name": "ipython",
        "version": 3
      },
      "file_extension": ".py",
      "mimetype": "text/x-python",
      "name": "python",
      "nbconvert_exporter": "python",
      "pygments_lexer": "ipython3",
      "version": "3.11.9"
    },
    "varInspector": {
      "cols": {
        "lenName": 16,
        "lenType": 16,
        "lenVar": 40
      },
      "kernels_config": {
        "python": {
          "delete_cmd_postfix": "",
          "delete_cmd_prefix": "del ",
          "library": "var_list.py",
          "varRefreshCmd": "print(var_dic_list())"
        },
        "r": {
          "delete_cmd_postfix": ") ",
          "delete_cmd_prefix": "rm(",
          "library": "var_list.r",
          "varRefreshCmd": "cat(var_dic_list()) "
        }
      },
      "types_to_exclude": [
        "module",
        "function",
        "builtin_function_or_method",
        "instance",
        "_Feature"
      ],
      "window_display": false
    }
  },
  "nbformat": 4,
  "nbformat_minor": 0
}